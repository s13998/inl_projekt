{
  "nbformat": 4,
  "nbformat_minor": 0,
  "metadata": {
    "colab": {
      "name": "inl.ipynb",
      "provenance": [],
      "collapsed_sections": [],
      "include_colab_link": true
    },
    "kernelspec": {
      "name": "python3",
      "display_name": "Python 3"
    },
    "language_info": {
      "name": "python"
    },
    "accelerator": "GPU"
  },
  "cells": [
    {
      "cell_type": "markdown",
      "metadata": {
        "id": "view-in-github",
        "colab_type": "text"
      },
      "source": [
        "<a href=\"https://colab.research.google.com/github/s13998/inl_projekt/blob/main/inl.ipynb\" target=\"_parent\"><img src=\"https://colab.research.google.com/assets/colab-badge.svg\" alt=\"Open In Colab\"/></a>"
      ]
    },
    {
      "cell_type": "code",
      "metadata": {
        "id": "UUSYXThiQD49"
      },
      "source": [
        "import pandas as pd\n",
        "import numpy as np\n",
        "\n",
        "# Make numpy values easier to read.\n",
        "np.set_printoptions(precision=3, suppress=True)\n",
        "\n",
        "import tensorflow as tf\n",
        "from tensorflow.keras import layers\n",
        "from tensorflow.keras.layers.experimental import preprocessing\n"
      ],
      "execution_count": 1,
      "outputs": []
    },
    {
      "cell_type": "code",
      "metadata": {
        "colab": {
          "base_uri": "https://localhost:8080/",
          "height": 204
        },
        "id": "nlrr2VGYjfpr",
        "outputId": "8712ef93-684c-4e63-dce4-7827198f9e34"
      },
      "source": [
        "train = pd.read_csv('olid-training-v1.0.tsv', sep='\\t')\n",
        "train.head()"
      ],
      "execution_count": 2,
      "outputs": [
        {
          "output_type": "execute_result",
          "data": {
            "text/html": [
              "<div>\n",
              "<style scoped>\n",
              "    .dataframe tbody tr th:only-of-type {\n",
              "        vertical-align: middle;\n",
              "    }\n",
              "\n",
              "    .dataframe tbody tr th {\n",
              "        vertical-align: top;\n",
              "    }\n",
              "\n",
              "    .dataframe thead th {\n",
              "        text-align: right;\n",
              "    }\n",
              "</style>\n",
              "<table border=\"1\" class=\"dataframe\">\n",
              "  <thead>\n",
              "    <tr style=\"text-align: right;\">\n",
              "      <th></th>\n",
              "      <th>id</th>\n",
              "      <th>tweet</th>\n",
              "      <th>subtask_a</th>\n",
              "      <th>subtask_b</th>\n",
              "      <th>subtask_c</th>\n",
              "    </tr>\n",
              "  </thead>\n",
              "  <tbody>\n",
              "    <tr>\n",
              "      <th>0</th>\n",
              "      <td>86426</td>\n",
              "      <td>@USER She should ask a few native Americans wh...</td>\n",
              "      <td>OFF</td>\n",
              "      <td>UNT</td>\n",
              "      <td>NaN</td>\n",
              "    </tr>\n",
              "    <tr>\n",
              "      <th>1</th>\n",
              "      <td>90194</td>\n",
              "      <td>@USER @USER Go home you’re drunk!!! @USER #MAG...</td>\n",
              "      <td>OFF</td>\n",
              "      <td>TIN</td>\n",
              "      <td>IND</td>\n",
              "    </tr>\n",
              "    <tr>\n",
              "      <th>2</th>\n",
              "      <td>16820</td>\n",
              "      <td>Amazon is investigating Chinese employees who ...</td>\n",
              "      <td>NOT</td>\n",
              "      <td>NaN</td>\n",
              "      <td>NaN</td>\n",
              "    </tr>\n",
              "    <tr>\n",
              "      <th>3</th>\n",
              "      <td>62688</td>\n",
              "      <td>@USER Someone should'veTaken\" this piece of sh...</td>\n",
              "      <td>OFF</td>\n",
              "      <td>UNT</td>\n",
              "      <td>NaN</td>\n",
              "    </tr>\n",
              "    <tr>\n",
              "      <th>4</th>\n",
              "      <td>43605</td>\n",
              "      <td>@USER @USER Obama wanted liberals &amp;amp; illega...</td>\n",
              "      <td>NOT</td>\n",
              "      <td>NaN</td>\n",
              "      <td>NaN</td>\n",
              "    </tr>\n",
              "  </tbody>\n",
              "</table>\n",
              "</div>"
            ],
            "text/plain": [
              "      id                                              tweet  ... subtask_b subtask_c\n",
              "0  86426  @USER She should ask a few native Americans wh...  ...       UNT       NaN\n",
              "1  90194  @USER @USER Go home you’re drunk!!! @USER #MAG...  ...       TIN       IND\n",
              "2  16820  Amazon is investigating Chinese employees who ...  ...       NaN       NaN\n",
              "3  62688  @USER Someone should'veTaken\" this piece of sh...  ...       UNT       NaN\n",
              "4  43605  @USER @USER Obama wanted liberals &amp; illega...  ...       NaN       NaN\n",
              "\n",
              "[5 rows x 5 columns]"
            ]
          },
          "metadata": {
            "tags": []
          },
          "execution_count": 2
        }
      ]
    },
    {
      "cell_type": "code",
      "metadata": {
        "id": "1I64R3Cy6mLf"
      },
      "source": [
        "test_a = pd.read_csv('testset-levela.tsv', sep='\\t')\n",
        "test_la = pd.read_csv('labels-levela.csv',names=[\"id\",\"label\"])\n",
        "\n",
        "test_b = pd.read_csv('testset-levelb.tsv', sep='\\t')\n",
        "test_lb = pd.read_csv('labels-levelb.csv',names=[\"id\",\"label\"])"
      ],
      "execution_count": 3,
      "outputs": []
    },
    {
      "cell_type": "code",
      "metadata": {
        "id": "yr2RA-LK63K4"
      },
      "source": [
        "test_tweet_a = test_a.pop('tweet')\n",
        "test_label_a = test_la.pop('label')\n",
        "\n",
        "test_tweet_b = test_b.pop('tweet')\n",
        "test_label_b = test_lb.pop('label')"
      ],
      "execution_count": 4,
      "outputs": []
    },
    {
      "cell_type": "code",
      "metadata": {
        "id": "qbg0fDHCkx5o"
      },
      "source": [
        "features_a = train.copy()\n",
        "labels_a = features_a.pop('subtask_a')\n",
        "data_a = features_a.pop('tweet')"
      ],
      "execution_count": 5,
      "outputs": []
    },
    {
      "cell_type": "code",
      "metadata": {
        "id": "M6_Jo0gKIO35"
      },
      "source": [
        "features_b = train.copy()\n",
        "features_b = features_b.drop(features_b[features_b.subtask_b != features_b.subtask_b].index)\n",
        "features_b = features_b.reset_index(drop=True)\n",
        "\n",
        "labels_b = features_b.pop('subtask_b')\n",
        "data_b = features_b.pop('tweet')"
      ],
      "execution_count": 6,
      "outputs": []
    },
    {
      "cell_type": "code",
      "metadata": {
        "id": "cXsstaBOl4Nb",
        "colab": {
          "base_uri": "https://localhost:8080/"
        },
        "outputId": "198f9949-6a5b-411f-d816-3b63638e4e75"
      },
      "source": [
        "#22418\n",
        "VOCAB_SIZE = 20000\n",
        "encoder_a = tf.keras.layers.experimental.preprocessing.TextVectorization(\n",
        "    max_tokens=VOCAB_SIZE)\n",
        "encoder_a.adapt(data_a.values)\n",
        "\n",
        "vocab_a = np.array(encoder_a.get_vocabulary())\n",
        "vocab_a[:20]"
      ],
      "execution_count": 7,
      "outputs": [
        {
          "output_type": "execute_result",
          "data": {
            "text/plain": [
              "array(['', '[UNK]', 'user', 'the', 'is', 'to', 'a', 'and', 'you', 'of',\n",
              "       'are', 'i', 'he', 'in', 'that', 'for', 'she', 'url', 'it', 'this'],\n",
              "      dtype='<U62')"
            ]
          },
          "metadata": {
            "tags": []
          },
          "execution_count": 7
        }
      ]
    },
    {
      "cell_type": "code",
      "metadata": {
        "colab": {
          "base_uri": "https://localhost:8080/"
        },
        "id": "Oti7jIC0r9jK",
        "outputId": "61930b21-2867-4686-d334-ef747e2f567a"
      },
      "source": [
        "encoded_example_a = encoder_a(data_a.values).numpy()\n",
        "print(encoded_example_a)"
      ],
      "execution_count": 8,
      "outputs": [
        {
          "output_type": "stream",
          "text": [
            "[[    2    16    81 ...     0     0     0]\n",
            " [    2     2    89 ...     0     0     0]\n",
            " [ 4251     4  8005 ...     0     0     0]\n",
            " ...\n",
            " [    2     7    67 ...     0     0     0]\n",
            " [    2  1064     0 ...     0     0     0]\n",
            " [12266   793   501 ...     0     0     0]]\n"
          ],
          "name": "stdout"
        }
      ]
    },
    {
      "cell_type": "code",
      "metadata": {
        "colab": {
          "base_uri": "https://localhost:8080/"
        },
        "id": "igEmdl3ss46M",
        "outputId": "1807376c-9f69-407f-a044-a79e1fe65422"
      },
      "source": [
        "for n in range(5):\n",
        "  print(\"Original: \", data_a[n])\n",
        "  print(\"Round-trip: \", \" \".join(vocab_a[encoded_example_a[n]]))\n",
        "  print()"
      ],
      "execution_count": 9,
      "outputs": [
        {
          "output_type": "stream",
          "text": [
            "Original:  @USER She should ask a few native Americans what their take on this is.\n",
            "Round-trip:  user she should ask a few native americans what their take on this is                                                                                         \n",
            "\n",
            "Original:  @USER @USER Go home you’re drunk!!! @USER #MAGA #Trump2020 👊🇺🇸👊 URL\n",
            "Round-trip:  user user go home you’re drunk user maga trump2020 👊🇺🇸👊 url                                                                                            \n",
            "\n",
            "Original:  Amazon is investigating Chinese employees who are selling internal data to third-party sellers looking for an edge in the competitive marketplace. URL #Amazon #MAGA #KAG #CHINA #TCOT\n",
            "Round-trip:  amazon is investigating chinese employees who are selling internal data to thirdparty sellers looking for an edge in the competitive marketplace url amazon maga kag china tcot                                                                            \n",
            "\n",
            "Original:  @USER Someone should'veTaken\" this piece of shit to a volcano. 😂\"\n",
            "Round-trip:  user someone shouldvetaken this piece of shit to a volcano 😂                                                                                            \n",
            "\n",
            "Original:  @USER @USER Obama wanted liberals &amp; illegals to move into red states\n",
            "Round-trip:  user user obama wanted liberals amp illegals to move into red states                                                                                           \n",
            "\n"
          ],
          "name": "stdout"
        }
      ]
    },
    {
      "cell_type": "code",
      "metadata": {
        "colab": {
          "base_uri": "https://localhost:8080/"
        },
        "id": "mCBjsNsWNJ8o",
        "outputId": "791975fa-cc6b-4b34-fdb8-83e10ac69ac1"
      },
      "source": [
        "VOCAB_SIZE = 10000\n",
        "encoder_b = tf.keras.layers.experimental.preprocessing.TextVectorization(\n",
        "    max_tokens=VOCAB_SIZE)\n",
        "encoder_b.adapt(data_b.values)\n",
        "\n",
        "vocab_b = np.array(encoder_b.get_vocabulary())\n",
        "vocab_b[:20]"
      ],
      "execution_count": 10,
      "outputs": [
        {
          "output_type": "execute_result",
          "data": {
            "text/plain": [
              "array(['', '[UNK]', 'user', 'the', 'is', 'to', 'a', 'and', 'you', 'of',\n",
              "       'are', 'that', 'he', 'i', 'in', 'for', 'she', 'this', 'it', 'they'],\n",
              "      dtype='<U41')"
            ]
          },
          "metadata": {
            "tags": []
          },
          "execution_count": 10
        }
      ]
    },
    {
      "cell_type": "code",
      "metadata": {
        "colab": {
          "base_uri": "https://localhost:8080/"
        },
        "id": "nBIwqWoRNlhF",
        "outputId": "2dafd5a7-fbd9-409e-9a18-14414c223e42"
      },
      "source": [
        "encoded_example_b = encoder_b(data_b.values).numpy()\n",
        "print(encoded_example_b[0])"
      ],
      "execution_count": 11,
      "outputs": [
        {
          "output_type": "stream",
          "text": [
            "[   2   16   81  565    6  653 1858  248   33   50  135   21   17    4\n",
            "    0    0    0    0    0    0    0    0    0    0    0    0    0    0\n",
            "    0    0    0    0    0    0    0    0    0    0    0    0    0    0\n",
            "    0    0    0    0    0    0    0    0    0    0    0    0    0    0\n",
            "    0    0    0    0    0    0    0    0    0    0    0    0    0    0\n",
            "    0    0    0    0    0    0    0    0    0    0    0    0    0    0\n",
            "    0    0    0    0    0    0    0    0    0    0    0    0    0    0\n",
            "    0    0    0]\n"
          ],
          "name": "stdout"
        }
      ]
    },
    {
      "cell_type": "code",
      "metadata": {
        "colab": {
          "base_uri": "https://localhost:8080/"
        },
        "id": "_uzFMUWKNk43",
        "outputId": "4910d705-b442-488d-dfad-6bcdd6aa14c1"
      },
      "source": [
        "for n in range(5):\n",
        "  print(\"Original: \", data_b[n])\n",
        "  print(\"Round-trip: \", \" \".join(vocab_b[encoded_example_b[n]]))\n",
        "  print()"
      ],
      "execution_count": 12,
      "outputs": [
        {
          "output_type": "stream",
          "text": [
            "Original:  @USER She should ask a few native Americans what their take on this is.\n",
            "Round-trip:  user she should ask a few native americans what their take on this is                                                                                       \n",
            "\n",
            "Original:  @USER @USER Go home you’re drunk!!! @USER #MAGA #Trump2020 👊🇺🇸👊 URL\n",
            "Round-trip:  user user go home you’re drunk user maga trump2020 👊🇺🇸👊 url                                                                                          \n",
            "\n",
            "Original:  @USER Someone should'veTaken\" this piece of shit to a volcano. 😂\"\n",
            "Round-trip:  user someone shouldvetaken this piece of shit to a volcano 😂                                                                                          \n",
            "\n",
            "Original:  @USER Liberals are all Kookoo !!!\n",
            "Round-trip:  user liberals are all kookoo                                                                                                \n",
            "\n",
            "Original:  @USER @USER Oh noes! Tough shit.\n",
            "Round-trip:  user user oh noes tough shit                                                                                               \n",
            "\n"
          ],
          "name": "stdout"
        }
      ]
    },
    {
      "cell_type": "code",
      "metadata": {
        "id": "HD2pijx998pO"
      },
      "source": [
        "labele_a=[]\n",
        "for i in labels_a.keys():\n",
        "  if(labels_a[i]=='NOT'):\n",
        "    labele_a.append(0)\n",
        "  elif(labels_a[i]=='OFF'):\n",
        "    labele_a.append(1)\n",
        "  else:\n",
        "    print(labels_a[i])"
      ],
      "execution_count": 13,
      "outputs": []
    },
    {
      "cell_type": "code",
      "metadata": {
        "id": "c12GtFB0Ax7A"
      },
      "source": [
        "test_labele_a=[]\n",
        "c=0\n",
        "for i in range(len(test_label_a)):\n",
        "  if(test_label_a[i]=='NOT'):\n",
        "    test_labele_a.append(0)\n",
        "  elif(test_label_a[i]=='OFF'):\n",
        "    test_labele_a.append(1)\n",
        "  else:\n",
        "    print(test_label_a[i])"
      ],
      "execution_count": 14,
      "outputs": []
    },
    {
      "cell_type": "code",
      "metadata": {
        "id": "KIcxi0itvzjd"
      },
      "source": [
        "labele_b=[]\n",
        "for i in labels_b.keys():\n",
        "  if(labels_b[i]=='TIN'):\n",
        "    labele_b.append(1)\n",
        "  elif(labels_b[i]=='UNT'):\n",
        "    labele_b.append(0)\n",
        "  else:\n",
        "    print(labels_b[i])"
      ],
      "execution_count": 15,
      "outputs": []
    },
    {
      "cell_type": "code",
      "metadata": {
        "id": "HSJEkFxyLDfB"
      },
      "source": [
        "test_labele_b=[]\n",
        "\n",
        "for i in test_label_b.keys():\n",
        "  if(test_label_b[i]=='TIN'):\n",
        "    test_labele_b.append(1)\n",
        "  elif(test_label_b[i]=='UNT'):\n",
        "    test_labele_b.append(0)\n",
        "  else:\n",
        "    print(test_label_b[i])"
      ],
      "execution_count": 16,
      "outputs": []
    },
    {
      "cell_type": "code",
      "metadata": {
        "id": "HmAjXKbuv8Qw"
      },
      "source": [
        "model_a = tf.keras.Sequential([\n",
        "    encoder_a,\n",
        "    tf.keras.layers.Embedding(\n",
        "        input_dim=len(encoder_a.get_vocabulary()),\n",
        "        output_dim=100,\n",
        "        # Use masking to handle the variable sequence lengths\n",
        "        mask_zero=True),\n",
        "    tf.keras.layers.Dropout(0.5),\n",
        "    tf.keras.layers.LSTM(100),\n",
        "    tf.keras.layers.Dropout(0.5),\n",
        "    tf.keras.layers.Dense(10, activation='relu'),\n",
        "    tf.keras.layers.Dropout(0.5),\n",
        "    tf.keras.layers.Dense(1,activation='sigmoid')\n",
        "])\n"
      ],
      "execution_count": 17,
      "outputs": []
    },
    {
      "cell_type": "code",
      "metadata": {
        "id": "4gha-BpBwEQ8"
      },
      "source": [
        "model_a.compile(loss=tf.keras.losses.BinaryCrossentropy(from_logits=False),\n",
        "              optimizer=tf.keras.optimizers.Adam(1e-4),\n",
        "              metrics=['accuracy'])"
      ],
      "execution_count": 18,
      "outputs": []
    },
    {
      "cell_type": "code",
      "metadata": {
        "colab": {
          "base_uri": "https://localhost:8080/"
        },
        "id": "B2V8pczvwJy1",
        "outputId": "582b8d3e-0a56-428b-af65-1a93ad630826"
      },
      "source": [
        "history_a = model_a.fit(data_a, np.array(labele_a), epochs=10, initial_epoch=0, batch_size=100, \n",
        "                    validation_data=(test_tweet_a,np.array(test_labele_a)))"
      ],
      "execution_count": 19,
      "outputs": [
        {
          "output_type": "stream",
          "text": [
            "Epoch 1/10\n",
            "133/133 [==============================] - 16s 39ms/step - loss: 0.6709 - accuracy: 0.6432 - val_loss: 0.6182 - val_accuracy: 0.7209\n",
            "Epoch 2/10\n",
            "133/133 [==============================] - 4s 32ms/step - loss: 0.6441 - accuracy: 0.6634 - val_loss: 0.6044 - val_accuracy: 0.7209\n",
            "Epoch 3/10\n",
            "133/133 [==============================] - 4s 32ms/step - loss: 0.6337 - accuracy: 0.6664 - val_loss: 0.5937 - val_accuracy: 0.7209\n",
            "Epoch 4/10\n",
            "133/133 [==============================] - 4s 32ms/step - loss: 0.6233 - accuracy: 0.6704 - val_loss: 0.5643 - val_accuracy: 0.7209\n",
            "Epoch 5/10\n",
            "133/133 [==============================] - 4s 32ms/step - loss: 0.5952 - accuracy: 0.6909 - val_loss: 0.5380 - val_accuracy: 0.7651\n",
            "Epoch 6/10\n",
            "133/133 [==============================] - 4s 32ms/step - loss: 0.5569 - accuracy: 0.7461 - val_loss: 0.5039 - val_accuracy: 0.7709\n",
            "Epoch 7/10\n",
            "133/133 [==============================] - 4s 32ms/step - loss: 0.5045 - accuracy: 0.7912 - val_loss: 0.4859 - val_accuracy: 0.7849\n",
            "Epoch 8/10\n",
            "133/133 [==============================] - 4s 32ms/step - loss: 0.4563 - accuracy: 0.8180 - val_loss: 0.4842 - val_accuracy: 0.7860\n",
            "Epoch 9/10\n",
            "133/133 [==============================] - 4s 32ms/step - loss: 0.4221 - accuracy: 0.8388 - val_loss: 0.4809 - val_accuracy: 0.7907\n",
            "Epoch 10/10\n",
            "133/133 [==============================] - 4s 32ms/step - loss: 0.3926 - accuracy: 0.8554 - val_loss: 0.5182 - val_accuracy: 0.8047\n"
          ],
          "name": "stdout"
        }
      ]
    },
    {
      "cell_type": "code",
      "metadata": {
        "id": "VTMbzvlFve73"
      },
      "source": [
        "model_b = tf.keras.Sequential([\n",
        "    encoder_b,\n",
        "    tf.keras.layers.Embedding(\n",
        "        input_dim=len(encoder_b.get_vocabulary()),\n",
        "        output_dim=100,\n",
        "        #input_length=64,\n",
        "        # Use masking to handle the variable sequence lengths\n",
        "        mask_zero=True),\n",
        "    tf.keras.layers.Dropout(0.5),\n",
        "    tf.keras.layers.LSTM(100),\n",
        "    tf.keras.layers.Dropout(0.5),\n",
        "    tf.keras.layers.Dense(10, activation='relu'),\n",
        "    tf.keras.layers.Dropout(0.5),\n",
        "    tf.keras.layers.Dense(1,activation='sigmoid')\n",
        "])"
      ],
      "execution_count": 20,
      "outputs": []
    },
    {
      "cell_type": "code",
      "metadata": {
        "id": "WKEy7IZlvhC5"
      },
      "source": [
        "model_b.compile(loss=tf.keras.losses.BinaryCrossentropy(from_logits=False),\n",
        "              optimizer=tf.keras.optimizers.Adam(1e-4),\n",
        "              metrics=['accuracy'])"
      ],
      "execution_count": 21,
      "outputs": []
    },
    {
      "cell_type": "code",
      "metadata": {
        "colab": {
          "base_uri": "https://localhost:8080/"
        },
        "id": "khIby_43LVUN",
        "outputId": "4cf086a4-c4fb-424c-969a-e0b944f7e1bd"
      },
      "source": [
        "history_b = model_b.fit(data_b, np.array(labele_b), epochs=10, initial_epoch=0, batch_size=100, \n",
        "                    validation_data=(test_tweet_b,np.array(test_labele_b)))"
      ],
      "execution_count": 22,
      "outputs": [
        {
          "output_type": "stream",
          "text": [
            "Epoch 1/10\n",
            "44/44 [==============================] - 7s 63ms/step - loss: 0.6892 - accuracy: 0.6118 - val_loss: 0.6746 - val_accuracy: 0.8875\n",
            "Epoch 2/10\n",
            "44/44 [==============================] - 1s 23ms/step - loss: 0.6491 - accuracy: 0.8348 - val_loss: 0.5478 - val_accuracy: 0.8875\n",
            "Epoch 3/10\n",
            "44/44 [==============================] - 1s 23ms/step - loss: 0.4972 - accuracy: 0.8525 - val_loss: 0.3698 - val_accuracy: 0.8875\n",
            "Epoch 4/10\n",
            "44/44 [==============================] - 1s 22ms/step - loss: 0.4681 - accuracy: 0.8648 - val_loss: 0.3605 - val_accuracy: 0.8875\n",
            "Epoch 5/10\n",
            "44/44 [==============================] - 1s 22ms/step - loss: 0.4529 - accuracy: 0.8723 - val_loss: 0.3495 - val_accuracy: 0.8875\n",
            "Epoch 6/10\n",
            "44/44 [==============================] - 1s 22ms/step - loss: 0.4445 - accuracy: 0.8773 - val_loss: 0.3420 - val_accuracy: 0.8875\n",
            "Epoch 7/10\n",
            "44/44 [==============================] - 1s 22ms/step - loss: 0.4321 - accuracy: 0.8764 - val_loss: 0.3393 - val_accuracy: 0.8875\n",
            "Epoch 8/10\n",
            "44/44 [==============================] - 1s 23ms/step - loss: 0.4278 - accuracy: 0.8764 - val_loss: 0.3346 - val_accuracy: 0.8875\n",
            "Epoch 9/10\n",
            "44/44 [==============================] - 1s 23ms/step - loss: 0.4294 - accuracy: 0.8761 - val_loss: 0.3374 - val_accuracy: 0.8875\n",
            "Epoch 10/10\n",
            "44/44 [==============================] - 1s 22ms/step - loss: 0.4125 - accuracy: 0.8791 - val_loss: 0.3270 - val_accuracy: 0.8875\n"
          ],
          "name": "stdout"
        }
      ]
    },
    {
      "cell_type": "code",
      "metadata": {
        "id": "GQcfEWmrSIOm",
        "colab": {
          "base_uri": "https://localhost:8080/"
        },
        "outputId": "bcc55445-c303-49e3-eef2-bdf7fd2b6510"
      },
      "source": [
        "tmp=model_a.predict(data_a[0:10])\n",
        "\n",
        "for i in range(10):\n",
        "  print(tmp[i],' -> ',labele_a[i])\n"
      ],
      "execution_count": 23,
      "outputs": [
        {
          "output_type": "stream",
          "text": [
            "[0.302]  ->  1\n",
            "[0.471]  ->  1\n",
            "[0.008]  ->  0\n",
            "[0.923]  ->  1\n",
            "[0.203]  ->  0\n",
            "[0.36]  ->  1\n",
            "[0.69]  ->  1\n",
            "[0.794]  ->  1\n",
            "[0.313]  ->  0\n",
            "[0.784]  ->  1\n"
          ],
          "name": "stdout"
        }
      ]
    },
    {
      "cell_type": "code",
      "metadata": {
        "colab": {
          "base_uri": "https://localhost:8080/"
        },
        "id": "x2uSHopMNP3C",
        "outputId": "958c9857-f5e9-414d-d110-2f1adc28bb06"
      },
      "source": [
        "tmp=model_a.predict(test_tweet_a[0:10])\n",
        "\n",
        "for i in range(10):\n",
        "  print(tmp[i],' -> ',test_labele_a[i])"
      ],
      "execution_count": 24,
      "outputs": [
        {
          "output_type": "stream",
          "text": [
            "[0.805]  ->  1\n",
            "[0.058]  ->  0\n",
            "[0.037]  ->  0\n",
            "[0.031]  ->  0\n",
            "[0.021]  ->  1\n",
            "[0.803]  ->  1\n",
            "[0.061]  ->  0\n",
            "[0.084]  ->  1\n",
            "[0.015]  ->  0\n",
            "[0.146]  ->  0\n"
          ],
          "name": "stdout"
        }
      ]
    },
    {
      "cell_type": "code",
      "metadata": {
        "id": "DinFcIUySIKl",
        "colab": {
          "base_uri": "https://localhost:8080/"
        },
        "outputId": "8efab5f4-68f7-4006-9d61-5e65fed2b448"
      },
      "source": [
        "tmp=model_b.predict(data_b[0:10])\n",
        "\n",
        "for i in range(10):\n",
        "  print(tmp[i],' -> ',labele_b[i])"
      ],
      "execution_count": 25,
      "outputs": [
        {
          "output_type": "stream",
          "text": [
            "[0.86]  ->  0\n",
            "[0.85]  ->  1\n",
            "[0.777]  ->  0\n",
            "[0.697]  ->  1\n",
            "[0.677]  ->  0\n",
            "[0.895]  ->  1\n",
            "[0.88]  ->  1\n",
            "[0.895]  ->  1\n",
            "[0.889]  ->  1\n",
            "[0.899]  ->  1\n"
          ],
          "name": "stdout"
        }
      ]
    },
    {
      "cell_type": "code",
      "metadata": {
        "colab": {
          "base_uri": "https://localhost:8080/"
        },
        "id": "pCx0Vj6qQkcY",
        "outputId": "f5ff92f9-2ab7-423a-c20b-716b621b6cb7"
      },
      "source": [
        "tmp=model_b.predict(test_tweet_b[0:20])\n",
        "\n",
        "for i in range(20):\n",
        "  print(tmp[i],' -> ',test_labele_b[i])"
      ],
      "execution_count": 26,
      "outputs": [
        {
          "output_type": "stream",
          "text": [
            "[0.899]  ->  1\n",
            "[0.877]  ->  1\n",
            "[0.693]  ->  1\n",
            "[0.898]  ->  1\n",
            "[0.675]  ->  0\n",
            "[0.838]  ->  1\n",
            "[0.898]  ->  1\n",
            "[0.897]  ->  1\n",
            "[0.809]  ->  1\n",
            "[0.892]  ->  1\n",
            "[0.87]  ->  1\n",
            "[0.564]  ->  0\n",
            "[0.898]  ->  1\n",
            "[0.682]  ->  1\n",
            "[0.886]  ->  0\n",
            "[0.898]  ->  1\n",
            "[0.596]  ->  1\n",
            "[0.901]  ->  1\n",
            "[0.896]  ->  1\n",
            "[0.897]  ->  1\n"
          ],
          "name": "stdout"
        }
      ]
    },
    {
      "cell_type": "code",
      "metadata": {
        "colab": {
          "base_uri": "https://localhost:8080/"
        },
        "id": "niu7kmAVrABq",
        "outputId": "d7c0e2cd-5c0f-486b-c8cb-60ae89471554"
      },
      "source": [
        "tmp=model_a.predict(test_tweet_a)\n",
        "tp=1\n",
        "fp=1\n",
        "tn=1\n",
        "fn=1\n",
        "for i in range(len(tmp)):\n",
        "  if tmp[i]<0.5:\n",
        "    if test_labele_a[i]==0:\n",
        "      tn=tn+1\n",
        "    else:\n",
        "      fn=fn+1\n",
        "  else:\n",
        "    if test_labele_a[i]==1:\n",
        "      tp=tp+1\n",
        "    else:\n",
        "      fp=fp+1\n",
        "\n",
        "\n",
        "precisionA = tp/(tp+fp)\n",
        "precisionB = tn/(tn+fn)\n",
        "\n",
        "recallA = tp/(tp+fn)\n",
        "recallB = tn/(tn+fp)\n",
        "\n",
        "print('precision 1:',precisionA)\n",
        "print('precision 0:',precisionB)\n",
        "print('recall 1:',recallA)\n",
        "print('recall 0:',recallB)\n",
        "\n",
        "f1A=2*precisionA*recallA/(precisionA+recallA)\n",
        "f1B=2*precisionB*recallB/(precisionB+recallB)\n",
        "\n",
        "print('f1 1:',f1A)\n",
        "print('f1 0:',f1B)"
      ],
      "execution_count": 27,
      "outputs": [
        {
          "output_type": "stream",
          "text": [
            "precision 1: 0.7727272727272727\n",
            "precision 0: 0.8087431693989071\n",
            "recall 1: 0.4214876033057851\n",
            "recall 0: 0.9517684887459807\n",
            "f1 1: 0.5454545454545454\n",
            "f1 0: 0.8744460856720828\n"
          ],
          "name": "stdout"
        }
      ]
    },
    {
      "cell_type": "code",
      "metadata": {
        "colab": {
          "base_uri": "https://localhost:8080/"
        },
        "id": "9BL1tFXLjJgm",
        "outputId": "ab4411af-5589-4299-cdb1-ff15bf57b2ee"
      },
      "source": [
        "tmp=model_b.predict(test_tweet_b)\n",
        "tp=1\n",
        "fp=1\n",
        "tn=1\n",
        "fn=1\n",
        "for i in range(len(tmp)):\n",
        "  if tmp[i]<0.5:\n",
        "    if test_labele_b[i]==0:\n",
        "      tn=tn+1\n",
        "    else:\n",
        "      fn=fn+1\n",
        "  else:\n",
        "    if test_labele_b[i]==1:\n",
        "      tp=tp+1\n",
        "    else:\n",
        "      fp=fp+1\n",
        "\n",
        "\n",
        "precisionA = tp/(tp+fp)\n",
        "precisionB = tn/(tn+fn)\n",
        "\n",
        "recallA = tp/(tp+fn)\n",
        "recallB = tn/(tn+fp)\n",
        "\n",
        "print('precision 1:',precisionA)\n",
        "print('precision 0:',precisionB)\n",
        "print('recall 1:',recallA)\n",
        "print('recall 0:',recallB)\n",
        "\n",
        "f1A=2*precisionA*recallA/(precisionA+recallA)\n",
        "f1B=2*precisionB*recallB/(precisionB+recallB)\n",
        "\n",
        "print('f1 1:',f1A)\n",
        "print('f1 0:',f1B)"
      ],
      "execution_count": 28,
      "outputs": [
        {
          "output_type": "stream",
          "text": [
            "precision 1: 0.8842975206611571\n",
            "precision 0: 0.5\n",
            "recall 1: 0.9953488372093023\n",
            "recall 0: 0.034482758620689655\n",
            "f1 1: 0.9365426695842451\n",
            "f1 0: 0.06451612903225806\n"
          ],
          "name": "stdout"
        }
      ]
    },
    {
      "cell_type": "code",
      "metadata": {
        "colab": {
          "base_uri": "https://localhost:8080/",
          "height": 518
        },
        "id": "ZBHUH7kVequA",
        "outputId": "80fd7484-7c91-4cb7-86e0-7df412bfdda0"
      },
      "source": [
        "import matplotlib.pyplot as plt\n",
        "\n",
        "\n",
        "def plot_graphs(history, metric):\n",
        "  plt.plot(history.history[metric])\n",
        "  plt.plot(history.history['val_'+metric], '')\n",
        "  plt.xlabel(\"Epochs\")\n",
        "  plt.ylabel(metric)\n",
        "  plt.legend([metric, 'val_'+metric])\n",
        "\n",
        "plt.figure(figsize=(16, 8))\n",
        "plt.subplot(1, 2, 1)\n",
        "plot_graphs(history_a, 'accuracy')\n",
        "plt.ylim(None, 1)\n",
        "plt.subplot(1, 2, 2)\n",
        "plot_graphs(history_a, 'loss')\n",
        "plt.ylim(0, None)"
      ],
      "execution_count": 29,
      "outputs": [
        {
          "output_type": "execute_result",
          "data": {
            "text/plain": [
              "(0.0, 0.6847805455327034)"
            ]
          },
          "metadata": {
            "tags": []
          },
          "execution_count": 29
        },
        {
          "output_type": "display_data",
          "data": {
            "image/png": "[encoded data removed]",
            "text/plain": [
              "<Figure size 1152x576 with 2 Axes>"
            ]
          },
          "metadata": {
            "tags": [],
            "needs_background": "light"
          }
        }
      ]
    },
    {
      "cell_type": "code",
      "metadata": {
        "id": "RgGLr_k_BUxg",
        "colab": {
          "base_uri": "https://localhost:8080/",
          "height": 518
        },
        "outputId": "3958e0c6-31d2-46fb-b583-7a19134f6b64"
      },
      "source": [
        "import matplotlib.pyplot as plt\n",
        "\n",
        "\n",
        "def plot_graphs(history, metric):\n",
        "  plt.plot(history.history[metric])\n",
        "  plt.plot(history.history['val_'+metric], '')\n",
        "  plt.xlabel(\"Epochs\")\n",
        "  plt.ylabel(metric)\n",
        "  plt.legend([metric, 'val_'+metric])\n",
        "\n",
        "plt.figure(figsize=(16, 8))\n",
        "plt.subplot(1, 2, 1)\n",
        "plot_graphs(history_b, 'accuracy')\n",
        "plt.ylim(None, 1)\n",
        "plt.subplot(1, 2, 2)\n",
        "plot_graphs(history_b, 'loss')\n",
        "plt.ylim(0, None)"
      ],
      "execution_count": 30,
      "outputs": [
        {
          "output_type": "execute_result",
          "data": {
            "text/plain": [
              "(0.0, 0.707343477010727)"
            ]
          },
          "metadata": {
            "tags": []
          },
          "execution_count": 30
        },
        {
          "output_type": "display_data",
          "data": {
            "image/png": "[encoded data removed]",
            "text/plain": [
              "<Figure size 1152x576 with 2 Axes>"
            ]
          },
          "metadata": {
            "tags": [],
            "needs_background": "light"
          }
        }
      ]
    }
  ]
}